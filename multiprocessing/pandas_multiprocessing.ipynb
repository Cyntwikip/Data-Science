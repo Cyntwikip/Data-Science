{
 "cells": [
  {
   "cell_type": "code",
   "execution_count": 11,
   "metadata": {
    "ExecuteTime": {
     "end_time": "2020-06-28T13:16:43.580766Z",
     "start_time": "2020-06-28T13:16:43.486021Z"
    }
   },
   "outputs": [
    {
     "name": "stdout",
     "output_type": "stream",
     "text": [
      "Number of processors:  8\n"
     ]
    }
   ],
   "source": [
    "%load_ext autoreload\n",
    "%autoreload 2\n",
    "\n",
    "import numpy as np\n",
    "import pandas as pd\n",
    "import matplotlib.pyplot as plt\n",
    "\n",
    "import functions\n",
    "import time\n",
    "import warnings\n",
    "import seaborn as sns\n",
    "import multiprocessing as mp\n",
    "\n",
    "warnings.filterwarnings('ignore')\n",
    "\n",
    "sns.set_style('darkgrid')\n",
    "\n",
    "n_cpu = mp.cpu_count()\n",
    "print(\"Number of processors: \", n_cpu)"
   ]
  },
  {
   "cell_type": "markdown",
   "metadata": {},
   "source": [
    "### Create Pandas DataFrame"
   ]
  },
  {
   "cell_type": "code",
   "execution_count": 2,
   "metadata": {
    "ExecuteTime": {
     "end_time": "2020-06-28T13:12:03.422827Z",
     "start_time": "2020-06-28T13:12:03.336060Z"
    }
   },
   "outputs": [
    {
     "name": "stdout",
     "output_type": "stream",
     "text": [
      "(1000, 2)\n"
     ]
    }
   ],
   "source": [
    "dummy = pd.DataFrame(np.random.randint(3,10,size=[int(1e3),2]))\n",
    "print(dummy.shape)"
   ]
  },
  {
   "cell_type": "markdown",
   "metadata": {},
   "source": [
    "### Simple function"
   ]
  },
  {
   "cell_type": "code",
   "execution_count": 3,
   "metadata": {
    "ExecuteTime": {
     "end_time": "2020-06-28T13:12:03.520564Z",
     "start_time": "2020-06-28T13:12:03.423824Z"
    }
   },
   "outputs": [
    {
     "name": "stdout",
     "output_type": "stream",
     "text": [
      "Wall time: 2 ms\n"
     ]
    }
   ],
   "source": [
    "%%time\n",
    "output = [functions.hypotenuse(i) for i in dummy.itertuples(index=False)]"
   ]
  },
  {
   "cell_type": "code",
   "execution_count": 4,
   "metadata": {
    "ExecuteTime": {
     "end_time": "2020-06-28T13:12:03.891572Z",
     "start_time": "2020-06-28T13:12:03.521561Z"
    }
   },
   "outputs": [
    {
     "name": "stdout",
     "output_type": "stream",
     "text": [
      "Wall time: 251 ms\n"
     ]
    }
   ],
   "source": [
    "%%time\n",
    "with mp.Pool(mp.cpu_count()) as pool:\n",
    "    output = pool.map(functions.hypotenuse, \n",
    "        dummy.itertuples(index=False, name=None)) # name=None fixes pickle issue..."
   ]
  },
  {
   "cell_type": "markdown",
   "metadata": {},
   "source": [
    "### Computationally expensive function"
   ]
  },
  {
   "cell_type": "code",
   "execution_count": 5,
   "metadata": {
    "ExecuteTime": {
     "end_time": "2020-06-28T13:12:03.988313Z",
     "start_time": "2020-06-28T13:12:03.892569Z"
    }
   },
   "outputs": [
    {
     "name": "stdout",
     "output_type": "stream",
     "text": [
      "10000\n"
     ]
    }
   ],
   "source": [
    "loops = int(10**4)\n",
    "functions.loops = loops\n",
    "print(functions.loops)"
   ]
  },
  {
   "cell_type": "code",
   "execution_count": 6,
   "metadata": {
    "ExecuteTime": {
     "end_time": "2020-06-28T13:12:19.963635Z",
     "start_time": "2020-06-28T13:12:03.989311Z"
    }
   },
   "outputs": [
    {
     "name": "stdout",
     "output_type": "stream",
     "text": [
      "Wall time: 15.9 s\n"
     ]
    }
   ],
   "source": [
    "%%time\n",
    "output = [functions.heavy_computation(i) for i in dummy.itertuples(index=False)]"
   ]
  },
  {
   "cell_type": "markdown",
   "metadata": {},
   "source": [
    "### Run for different scenarios"
   ]
  },
  {
   "cell_type": "code",
   "execution_count": 7,
   "metadata": {
    "ExecuteTime": {
     "end_time": "2020-06-28T13:12:20.056662Z",
     "start_time": "2020-06-28T13:12:19.965631Z"
    }
   },
   "outputs": [],
   "source": [
    "def single():\n",
    "    output = [functions.heavy_computation(i) for i in dummy.itertuples(index=False)]\n",
    "    \n",
    "def multiple():\n",
    "    with mp.Pool(mp.cpu_count()) as pool:\n",
    "        output = pool.map(functions.heavy_computation, \n",
    "            dummy.itertuples(index=False, name=None)) # name=None fixes pickle issue...\n",
    "    \n",
    "def timer(func):\n",
    "    t_prev = time.time()\n",
    "    func()\n",
    "    t_curr = time.time()\n",
    "    t_dur = t_curr-t_prev \n",
    "    t_dur = round(t_dur*1000, 3)\n",
    "    return t_dur"
   ]
  },
  {
   "cell_type": "code",
   "execution_count": 8,
   "metadata": {
    "ExecuteTime": {
     "end_time": "2020-06-28T13:15:58.847754Z",
     "start_time": "2020-06-28T13:12:20.058384Z"
    }
   },
   "outputs": [
    {
     "name": "stdout",
     "output_type": "stream",
     "text": [
      "Size: 10 | Loops: 10\n",
      "Size: 10 | Loops: 100\n",
      "Size: 10 | Loops: 1000\n",
      "Size: 100 | Loops: 10\n",
      "Size: 100 | Loops: 100\n",
      "Size: 100 | Loops: 1000\n",
      "Size: 1000 | Loops: 10\n",
      "Size: 1000 | Loops: 100\n",
      "Size: 1000 | Loops: 1000\n",
      "Size: 10000 | Loops: 10\n",
      "Size: 10000 | Loops: 100\n",
      "Size: 10000 | Loops: 1000\n",
      "Size: 100000 | Loops: 10\n",
      "Size: 100000 | Loops: 100\n",
      "Size: 100000 | Loops: 1000\n"
     ]
    }
   ],
   "source": [
    "df_single = pd.DataFrame(columns=['size', 'loops', 'time'])\n",
    "df_multiple = pd.DataFrame(columns=['size', 'loops', 'time'])\n",
    "\n",
    "for size in [10**i for i in range(1,6)]:\n",
    "    dummy = pd.DataFrame(np.random.randint(3,10,size=[size, 2]))\n",
    "    \n",
    "    for loops in [10**i for i in range(1,4)]:\n",
    "        print(f'Size: {size} | Loops: {loops}')\n",
    "        functions.loops = loops\n",
    "        \n",
    "        t_dur = timer(single)\n",
    "        df_single.loc[df_single.shape[0], :] = [size, loops, t_dur]\n",
    "        \n",
    "        t_dur = timer(multiple)\n",
    "        df_multiple.loc[df_multiple.shape[0], :] = [size, loops, t_dur]"
   ]
  },
  {
   "cell_type": "code",
   "execution_count": 12,
   "metadata": {
    "ExecuteTime": {
     "end_time": "2020-06-28T13:16:53.649934Z",
     "start_time": "2020-06-28T13:16:51.449819Z"
    }
   },
   "outputs": [
    {
     "data": {
      "image/png": "[encoded data removed]",
      "text/plain": [
       "<Figure size 1200x240 with 3 Axes>"
      ]
     },
     "metadata": {},
     "output_type": "display_data"
    }
   ],
   "source": [
    "fig, (ax1, ax2, ax3) = plt.subplots(1, 3, figsize=(15,3), dpi=80)\n",
    "\n",
    "def plot(loops, ax):\n",
    "    ax = df_single.query(f'loops=={loops}').plot(x='size', y='time', ax=ax, label='CPU = 1')\n",
    "    ax = df_multiple.query(f'loops=={loops}').plot(x='size', y='time', ax=ax, label=f'CPU = {n_cpu}')\n",
    "\n",
    "    ax.set_title(f'Function Complexity: Loops = {loops}')\n",
    "    ax.set_xscale('log')\n",
    "    ax.set_yscale('log')\n",
    "    ax.set_ylabel('time (ms)')\n",
    "    ax.legend()\n",
    "    \n",
    "plot(10, ax1)\n",
    "plot(100, ax2)\n",
    "plot(1000, ax3)"
   ]
  }
 ],
 "metadata": {
  "hide_input": false,
  "kernelspec": {
   "display_name": "Python 3",
   "language": "python",
   "name": "python3"
  },
  "language_info": {
   "codemirror_mode": {
    "name": "ipython",
    "version": 3
   },
   "file_extension": ".py",
   "mimetype": "text/x-python",
   "name": "python",
   "nbconvert_exporter": "python",
   "pygments_lexer": "ipython3",
   "version": "3.7.3"
  },
  "toc": {
   "base_numbering": 1,
   "nav_menu": {},
   "number_sections": true,
   "sideBar": true,
   "skip_h1_title": false,
   "title_cell": "Table of Contents",
   "title_sidebar": "Contents",
   "toc_cell": false,
   "toc_position": {},
   "toc_section_display": true,
   "toc_window_display": false
  }
 },
 "nbformat": 4,
 "nbformat_minor": 2
}
